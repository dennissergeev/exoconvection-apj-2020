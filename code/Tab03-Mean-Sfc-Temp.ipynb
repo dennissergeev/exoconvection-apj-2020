{
 "cells": [
  {
   "cell_type": "markdown",
   "metadata": {},
   "source": [
    "# Table 3.\n",
    "\n",
    "Mean global, day-side, and night-side surface temperature ($K$) in the control and sensitivity simulations of Trappist-1e and Proxima b."
   ]
  },
  {
   "cell_type": "markdown",
   "metadata": {},
   "source": [
    "[Skip code and jump to the table](#Show-the-table)\n",
    "\n",
    "----------------------------------"
   ]
  },
  {
   "cell_type": "markdown",
   "metadata": {},
   "source": [
    "Import the necessary libraries."
   ]
  },
  {
   "cell_type": "code",
   "execution_count": 1,
   "metadata": {},
   "outputs": [],
   "source": [
    "import warnings\n",
    "\n",
    "warnings.filterwarnings(\"ignore\")"
   ]
  },
  {
   "cell_type": "code",
   "execution_count": 2,
   "metadata": {},
   "outputs": [],
   "source": [
    "import pandas as pd"
   ]
  },
  {
   "cell_type": "code",
   "execution_count": 3,
   "metadata": {},
   "outputs": [],
   "source": [
    "from aeolus.calc import last_year_mean, spatial\n",
    "from aeolus.core import Run"
   ]
  },
  {
   "cell_type": "code",
   "execution_count": 4,
   "metadata": {},
   "outputs": [],
   "source": [
    "from commons import (\n",
    "    DAYSIDE,\n",
    "    NIGHTSIDE,\n",
    "    PLANET_ALIASES,\n",
    "    RUN_ALIASES,\n",
    ")\n",
    "import mypaths"
   ]
  },
  {
   "cell_type": "markdown",
   "metadata": {},
   "source": [
    "## Load data"
   ]
  },
  {
   "cell_type": "markdown",
   "metadata": {},
   "source": [
    "Create a dictionary of `Run` objects with preprocessed data."
   ]
  },
  {
   "cell_type": "code",
   "execution_count": 5,
   "metadata": {},
   "outputs": [],
   "source": [
    "runs = {}\n",
    "for planet in PLANET_ALIASES.keys():\n",
    "    for run_key in RUN_ALIASES.keys():\n",
    "        label = f\"{planet}_{run_key}\"\n",
    "\n",
    "        fname = mypaths.sadir / label / \"_processed\" / f\"{label}.nc\"\n",
    "\n",
    "        runs[label] = Run(\n",
    "            files=fname,\n",
    "            name=label,\n",
    "            planet=planet,\n",
    "            processed=True,\n",
    "        )"
   ]
  },
  {
   "cell_type": "markdown",
   "metadata": {},
   "source": [
    "## Calculate mean temperatures"
   ]
  },
  {
   "cell_type": "code",
   "execution_count": 6,
   "metadata": {},
   "outputs": [],
   "source": [
    "diags = {\n",
    "    \"$\\overline{T_s}$\": lambda cl: spatial(\n",
    "        cl.extract_strict(\"surface_temperature\"), \"mean\"\n",
    "    ),\n",
    "    \"$\\overline{T_{s,d}}$\": lambda cl: spatial(\n",
    "        cl.extract(DAYSIDE.constraint).extract_strict(\"surface_temperature\"), \"mean\"\n",
    "    ),\n",
    "    \"$\\overline{T_{s,n}}$\": lambda cl: spatial(\n",
    "        cl.extract(NIGHTSIDE.constraint).extract_strict(\"surface_temperature\"), \"mean\"\n",
    "    ),\n",
    "    \"$T_{s,max}$\": lambda cl: spatial(cl.extract_strict(\"surface_temperature\"), \"max\"),\n",
    "    \"$T_{s,min}$\": lambda cl: spatial(cl.extract_strict(\"surface_temperature\"), \"min\"),\n",
    "}"
   ]
  },
  {
   "cell_type": "markdown",
   "metadata": {},
   "source": [
    "Loop over planets and runs and store results in a `DataFrame`."
   ]
  },
  {
   "cell_type": "code",
   "execution_count": 7,
   "metadata": {},
   "outputs": [],
   "source": [
    "results = {}\n",
    "for planet in PLANET_ALIASES.keys():\n",
    "    dfs = {}\n",
    "    for run_key in RUN_ALIASES.keys():\n",
    "        label = f\"{planet}_{run_key}\"\n",
    "\n",
    "        _data = {}\n",
    "        for vrbl, _calc in diags.items():\n",
    "            _data[vrbl] = float(last_year_mean(_calc(runs[label].proc)).data)\n",
    "        dfs[run_key] = pd.DataFrame(\n",
    "            _data, index=pd.Index(name=\"Simulation\", data=[run_key])\n",
    "        )\n",
    "    results[planet] = pd.concat(dfs, axis=\"index\").droplevel(0).T\n",
    "df = pd.concat(results).T\n",
    "df = df.rename(index=RUN_ALIASES).rename(columns=PLANET_ALIASES)"
   ]
  },
  {
   "cell_type": "markdown",
   "metadata": {},
   "source": [
    "Print the `DataFrame` to LaTeX."
   ]
  },
  {
   "cell_type": "code",
   "execution_count": 8,
   "metadata": {},
   "outputs": [],
   "source": [
    "df.to_latex(\n",
    "    buf=mypaths.tabdir / \"mean_sfc_temp_table.tex\",\n",
    "    formatters={k: lambda x: f\"{x:.1f}\" for k in df.columns},\n",
    "    column_format=\"l\" + \"c\" * len(diags) * len(PLANET_ALIASES),\n",
    "    escape=False,\n",
    ")"
   ]
  },
  {
   "cell_type": "markdown",
   "metadata": {},
   "source": [
    "And show it here."
   ]
  },
  {
   "cell_type": "code",
   "execution_count": 9,
   "metadata": {},
   "outputs": [
    {
     "name": "stdout",
     "output_type": "stream",
     "text": [
      "\\begin{tabular}{lcccccccccc}\n",
      "\\toprule\n",
      "{} & \\multicolumn{5}{l}{Trappist-1e} & \\multicolumn{5}{l}{Proxima b} \\\\\n",
      "{} & $\\overline{T_s}$ & $\\overline{T_{s,d}}$ & $\\overline{T_{s,n}}$ & $T_{s,max}$ & $T_{s,min}$ & $\\overline{T_s}$ & $\\overline{T_{s,d}}$ & $\\overline{T_{s,n}}$ & $T_{s,max}$ & $T_{s,min}$ \\\\\n",
      "Simulation &                  &                      &                      &             &             &                  &                      &                      &             &             \\\\\n",
      "\\midrule\n",
      "MassFlux   &            231.8 &                260.0 &                202.7 &       288.3 &       177.1 &            226.6 &                261.7 &                190.5 &       287.3 &       148.7 \\\\\n",
      "Adjust     &            249.3 &                268.3 &                229.3 &       294.3 &       214.1 &            241.0 &                272.0 &                209.0 &       299.3 &       166.0 \\\\\n",
      "NoCnvPm    &            234.4 &                256.6 &                211.1 &       284.1 &       193.2 &            220.4 &                258.8 &                180.7 &       290.9 &       138.3 \\\\\n",
      "\\bottomrule\n",
      "\\end{tabular}\n",
      "\n"
     ]
    }
   ],
   "source": [
    "print(df.to_latex(\n",
    "    formatters={k: lambda x: f\"{x:.1f}\" for k in df.columns},\n",
    "    column_format=\"l\" + \"c\" * len(diags) * len(PLANET_ALIASES),\n",
    "    escape=False,\n",
    "))"
   ]
  }
 ],
 "metadata": {
  "kernelspec": {
   "display_name": "Python [conda env:exo]",
   "language": "python",
   "name": "conda-env-exo-py"
  },
  "language_info": {
   "codemirror_mode": {
    "name": "ipython",
    "version": 3
   },
   "file_extension": ".py",
   "mimetype": "text/x-python",
   "name": "python",
   "nbconvert_exporter": "python",
   "pygments_lexer": "ipython3",
   "version": "3.7.6"
  }
 },
 "nbformat": 4,
 "nbformat_minor": 4
}
