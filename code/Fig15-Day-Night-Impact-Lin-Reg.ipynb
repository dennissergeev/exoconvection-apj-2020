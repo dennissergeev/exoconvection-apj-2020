{
 "cells": [
  {
   "cell_type": "markdown",
   "metadata": {},
   "source": [
    "# Figure 15.\n",
    "\n",
    "Day-night surface temperature difference ($\\overline{\\Delta T_{dn}}$, $K$) as a function of the average wind divergence in the free troposphere ($5-20~km$) of the substellar region ($\\overline{\\nabla\\cdot\\vec{u}}_{ss}$, $s^{-1}$) for the ensemble of simulations with different empirical parameters of the mass-flux scheme (gray markers) in (a) Trappist-1e and (b) Proxima b set-up. The blue marker shows the value for the control simulation, i.e. *MassFlux*. The dashed blue line shows linear fit, and the dark blue vertical lines show the divergence estimate from the *HighRes* simulation, along with extrapolated $\\overline{\\Delta T_{dn}}$ (horizontal dashed lines). Dark blue shaded area represents the uncertainty in high-resolution estimates due to the temporal variability."
   ]
  },
  {
   "cell_type": "markdown",
   "metadata": {},
   "source": [
    "[Skip code and jump to the figure](#Show-the-figure)\n",
    "\n",
    "----------------------------------"
   ]
  },
  {
   "cell_type": "markdown",
   "metadata": {},
   "source": [
    "Import the necessary libraries."
   ]
  },
  {
   "cell_type": "code",
   "execution_count": 1,
   "metadata": {},
   "outputs": [],
   "source": [
    "import warnings\n",
    "\n",
    "warnings.filterwarnings(\"ignore\")"
   ]
  },
  {
   "cell_type": "code",
   "execution_count": 2,
   "metadata": {},
   "outputs": [],
   "source": [
    "from datetime import datetime, timedelta"
   ]
  },
  {
   "cell_type": "markdown",
   "metadata": {},
   "source": [
    "Progress bar"
   ]
  },
  {
   "cell_type": "code",
   "execution_count": 3,
   "metadata": {},
   "outputs": [],
   "source": [
    "from fastprogress import progress_bar"
   ]
  },
  {
   "cell_type": "markdown",
   "metadata": {},
   "source": [
    "Scientific stack"
   ]
  },
  {
   "cell_type": "code",
   "execution_count": 4,
   "metadata": {},
   "outputs": [],
   "source": [
    "import matplotlib.pyplot as plt\n",
    "\n",
    "import numpy as np\n",
    "\n",
    "import pandas as pd\n",
    "\n",
    "from sklearn import linear_model\n",
    "\n",
    "import xarray as xr"
   ]
  },
  {
   "cell_type": "code",
   "execution_count": 5,
   "metadata": {},
   "outputs": [],
   "source": [
    "from aeolus.util import subplot_label_generator"
   ]
  },
  {
   "cell_type": "markdown",
   "metadata": {},
   "source": [
    "Local modules"
   ]
  },
  {
   "cell_type": "code",
   "execution_count": 6,
   "metadata": {},
   "outputs": [],
   "source": [
    "from commons import (\n",
    "    ENS_LABELS,\n",
    "    GLM_RUNID,\n",
    "    NS_COLORS,\n",
    "    NS_MODEL_TYPES,\n",
    "    NS_OUTPUT_NAME_PREFIX,\n",
    "    NS_RUN_ALIASES,\n",
    "    PLANET_ALIASES,\n",
    "    SS_REGION,\n",
    ")\n",
    "from gl_diag import ONLY_LAM\n",
    "import mypaths\n",
    "from plot_func import use_style"
   ]
  },
  {
   "cell_type": "markdown",
   "metadata": {},
   "source": [
    "Global stylesheet for figures."
   ]
  },
  {
   "cell_type": "code",
   "execution_count": 7,
   "metadata": {},
   "outputs": [],
   "source": [
    "use_style()"
   ]
  },
  {
   "cell_type": "markdown",
   "metadata": {},
   "source": [
    "Make a simple wrapper for the linear regression"
   ]
  },
  {
   "cell_type": "code",
   "execution_count": 8,
   "metadata": {},
   "outputs": [],
   "source": [
    "def _simple_lin_reg(x, y):\n",
    "    \"\"\"Linear regression of y against x using scikit-learn.\"\"\"\n",
    "    xx = x.values.reshape((-1, 1))\n",
    "    yy = y.values.reshape((-1, 1))\n",
    "    wider_xx = np.linspace(\n",
    "        xx.min() * (1 - 0.05 * np.sign(xx.min())),\n",
    "        xx.max() * (1 + 0.05 * np.sign(xx.max())),\n",
    "        2,\n",
    "    ).reshape(-1, 1)\n",
    "    lin_reg = linear_model.LinearRegression().fit(xx, yy)\n",
    "    y_pred = lin_reg.predict(wider_xx)\n",
    "    score = lin_reg.score(xx, yy)\n",
    "\n",
    "    return lin_reg, score, wider_xx, y_pred"
   ]
  },
  {
   "cell_type": "code",
   "execution_count": 9,
   "metadata": {},
   "outputs": [],
   "source": [
    "run_key = \"grcs\""
   ]
  },
  {
   "cell_type": "markdown",
   "metadata": {},
   "source": [
    "## Load data"
   ]
  },
  {
   "cell_type": "markdown",
   "metadata": {},
   "source": [
    "First, load preprocessed metrics of the _HighRes_ simulations"
   ]
  },
  {
   "cell_type": "code",
   "execution_count": 10,
   "metadata": {},
   "outputs": [],
   "source": [
    "nc_flist = sorted((mypaths.nsdir / \"_processed\").glob(\"*\"))\n",
    "# nc_flist"
   ]
  },
  {
   "cell_type": "code",
   "execution_count": 11,
   "metadata": {},
   "outputs": [],
   "source": [
    "lam_results = {}\n",
    "for planet in PLANET_ALIASES.keys():\n",
    "    label = f\"{planet}_{run_key}\"\n",
    "    try:\n",
    "        lam_results[label] = xr.open_dataset(\n",
    "            mypaths.nsdir / \"_processed\" / f\"aggr_diags_ns_{label}_lam.nc\"\n",
    "        )\n",
    "    except OSError as e:\n",
    "        print(e)\n",
    "        pass"
   ]
  },
  {
   "cell_type": "markdown",
   "metadata": {},
   "source": [
    "Average the results"
   ]
  },
  {
   "cell_type": "code",
   "execution_count": 12,
   "metadata": {},
   "outputs": [],
   "source": [
    "lam_ave = {}\n",
    "for label, ds in lam_results.items():\n",
    "    df = ds.to_dataframe()[[i for i in ds.data_vars]].mean()\n",
    "    df.index = [i + \"_ss\" for i in df.index]\n",
    "    df = df.to_frame()\n",
    "    df.columns = [label + \"_LAM\"]\n",
    "    lam_ave[label] = df.T"
   ]
  },
  {
   "cell_type": "markdown",
   "metadata": {},
   "source": [
    "Now load the aggregated metrics of \"ensemble\" global simulations"
   ]
  },
  {
   "cell_type": "code",
   "execution_count": 13,
   "metadata": {},
   "outputs": [],
   "source": [
    "df_ens_dict = {}\n",
    "for planet in PLANET_ALIASES.keys():\n",
    "    df_list = []\n",
    "    for label in ENS_LABELS:\n",
    "        fpath = (\n",
    "            mypaths.sadir\n",
    "            / f\"{planet}_grcs_ensemble\"\n",
    "            / label\n",
    "            / \"_processed\"\n",
    "            / f\"{planet}_grcs_ens_{label}_aggr_diag.csv\"\n",
    "        )\n",
    "        df_list.append(pd.read_csv(fpath, index_col=0).T)\n",
    "    df_ens_dict[planet] = pd.concat(df_list, axis=0, sort=False)"
   ]
  },
  {
   "cell_type": "markdown",
   "metadata": {},
   "source": [
    "## Plot the results"
   ]
  },
  {
   "cell_type": "markdown",
   "metadata": {},
   "source": [
    "Define a function to plot regression with all the bells and whistles."
   ]
  },
  {
   "cell_type": "code",
   "execution_count": 14,
   "metadata": {},
   "outputs": [],
   "source": [
    "def scatter_plot_w_lin_reg(ax, x_vrbl, y_vrbl, ds_x, add_legend=True):\n",
    "    x = x_vrbl\n",
    "    y = y_vrbl\n",
    "\n",
    "    # Calculate regression\n",
    "    lin_reg, score, x_lin, y_lin = _simple_lin_reg(x, y)\n",
    "\n",
    "    try:\n",
    "        ax.plot(\n",
    "            x.loc[\"base\"],\n",
    "            y.loc[\"base\"],\n",
    "            linestyle=\"\",\n",
    "            marker=\".\",\n",
    "            color=NS_COLORS[run_key][\"lam\"],\n",
    "            ms=12,\n",
    "            label=NS_RUN_ALIASES[run_key],\n",
    "            zorder=100,\n",
    "        )\n",
    "    except KeyError:\n",
    "        pass\n",
    "    ax.plot(\n",
    "        x.squeeze(),\n",
    "        y.squeeze(),\n",
    "        linestyle=\"\",\n",
    "        marker=\".\",\n",
    "        color=\"grey\",\n",
    "        alpha=0.75,\n",
    "        ms=10,\n",
    "        label=f\"{NS_RUN_ALIASES[run_key]} with\\nperturbed parameters\",\n",
    "    )\n",
    "\n",
    "    ns_predict = None\n",
    "    # NS data\n",
    "    ns_estimate_mean = float(ds_x.mean())\n",
    "    ns_predict = float(lin_reg.predict(np.array(ns_estimate_mean).reshape((-1, 1))))\n",
    "    ns_estimate_std = float(ds_x.std())\n",
    "    xx = np.concatenate(\n",
    "        [x, [ds_x.mean(), ds_x.mean() + ds_x.std(), ds_x.mean() - ds_x.std()]]\n",
    "    )\n",
    "    wider_xx = np.linspace(\n",
    "        xx.min() * (1 - 0.05 * np.sign(xx.min())),\n",
    "        xx.max() * (1 + 0.05 * np.sign(xx.max())),\n",
    "        2,\n",
    "    ).reshape(-1, 1)\n",
    "\n",
    "    ax.plot(\n",
    "        wider_xx.squeeze(),\n",
    "        lin_reg.predict(wider_xx).squeeze(),\n",
    "        linestyle=\"--\",\n",
    "        color=NS_COLORS[run_key][\"global\"],\n",
    "        label=\"Linear regression\",\n",
    "    )\n",
    "\n",
    "    ylim = ax.get_ylim()\n",
    "\n",
    "    ns_predict_upper = float(\n",
    "        lin_reg.predict(np.array(ns_estimate_mean + ns_estimate_std).reshape((-1, 1)))\n",
    "    )\n",
    "    ns_predict_lower = float(\n",
    "        lin_reg.predict(np.array(ns_estimate_mean - ns_estimate_std).reshape((-1, 1)))\n",
    "    )\n",
    "    ax.vlines(\n",
    "        ns_estimate_mean,\n",
    "        *ylim,\n",
    "        color=NS_COLORS[run_key][\"lam\"],\n",
    "        linewidth=3,\n",
    "        label=f\"{NS_MODEL_TYPES['lam']['title']} estimate\",\n",
    "    )\n",
    "    ax.fill_betweenx(\n",
    "        ylim,\n",
    "        ns_estimate_mean - ns_estimate_std,\n",
    "        ns_estimate_mean + ns_estimate_std,\n",
    "        alpha=0.5,\n",
    "        facecolor=NS_COLORS[run_key][\"lam\"],\n",
    "        edgecolor=\"none\",\n",
    "        label=NS_MODEL_TYPES[\"lam\"][\"title\"] + r\" uncertainty ($\\pm\\sigma$)\",\n",
    "    )\n",
    "\n",
    "    xlim = ax.get_xlim()\n",
    "\n",
    "    if ns_predict is not None:\n",
    "        # print(ns_predict_lower)\n",
    "        # print(ns_predict)\n",
    "        # print(ns_predict_upper)\n",
    "        ax.plot(\n",
    "            [xlim[0], ns_estimate_mean],\n",
    "            [ns_predict] * 2,\n",
    "            marker=\"o\",\n",
    "            markevery=[-1],\n",
    "            linestyle=\"--\",\n",
    "            linewidth=3,\n",
    "            color=NS_COLORS[run_key][\"lam\"],\n",
    "        )\n",
    "        ax.plot(\n",
    "            [xlim[0], ns_estimate_mean - ns_estimate_std],\n",
    "            [ns_predict_lower] * 2,\n",
    "            marker=\"o\",\n",
    "            mfc=\"none\",\n",
    "            alpha=0.5,\n",
    "            markevery=[-1],\n",
    "            linestyle=\"--\",\n",
    "            linewidth=2,\n",
    "            color=NS_COLORS[run_key][\"lam\"],\n",
    "        )\n",
    "        ax.plot(\n",
    "            [xlim[0], ns_estimate_mean + ns_estimate_std],\n",
    "            [ns_predict_upper] * 2,\n",
    "            marker=\"o\",\n",
    "            mfc=\"none\",\n",
    "            alpha=0.5,\n",
    "            markevery=[-1],\n",
    "            linestyle=\"--\",\n",
    "            linewidth=2,\n",
    "            color=NS_COLORS[run_key][\"lam\"],\n",
    "        )\n",
    "        if (abs(ax.get_yticks() - ns_predict) >= 1.5).all():\n",
    "            ax.set_yticks(list(ax.get_yticks()) + [np.round(ns_predict, 1)])\n",
    "    ax.set_ylim(*ylim)\n",
    "    ax.set_xlim(*xlim)\n",
    "\n",
    "    if add_legend:\n",
    "        ax.legend(loc=1, fontsize=\"small\")  # , bbox_to_anchor=[1.0, 1.0]\n",
    "\n",
    "    return lin_reg"
   ]
  },
  {
   "cell_type": "markdown",
   "metadata": {},
   "source": [
    "Dictionary with x-diagnostics (here only the horizontal divergence is left)."
   ]
  },
  {
   "cell_type": "code",
   "execution_count": 15,
   "metadata": {},
   "outputs": [],
   "source": [
    "chosen_x_diags = {\n",
    "    \"hdiv_5_20km_ss\": {\n",
    "        \"factor\": 1e6,\n",
    "        \"xlabel\": \"Horizontal divergence in the upper troposphere\\n\"\n",
    "        + r\"of the substellar region $\\overline{\\nabla \\cdot \\vec{u}}_{ss}$ [$10^{-6}$ $s^{-1}$]\",\n",
    "    },\n",
    "}"
   ]
  },
  {
   "cell_type": "markdown",
   "metadata": {},
   "source": [
    "Choose variables for the regression."
   ]
  },
  {
   "cell_type": "code",
   "execution_count": 16,
   "metadata": {},
   "outputs": [],
   "source": [
    "x_name = \"hdiv_5_20km_ss\"\n",
    "y_name = \"t_sfc_diff_dn\""
   ]
  },
  {
   "cell_type": "markdown",
   "metadata": {},
   "source": [
    "Assemble the figure."
   ]
  },
  {
   "cell_type": "code",
   "execution_count": 17,
   "metadata": {},
   "outputs": [],
   "source": [
    "ncol = len(PLANET_ALIASES)\n",
    "nrow = 1\n",
    "\n",
    "fig, axs = plt.subplots(nrows=nrow, ncols=ncol, figsize=(8 * ncol, 4 * nrow))\n",
    "\n",
    "iletters = subplot_label_generator()\n",
    "for i, (planet, ax) in enumerate(zip(PLANET_ALIASES, axs.T)):\n",
    "    ax.set_title(f\"({next(iletters)})\", fontsize=\"small\", pad=5, loc=\"left\")\n",
    "    ax.set_title(PLANET_ALIASES[planet], fontsize=\"large\", pad=5, loc=\"center\")\n",
    "\n",
    "    y_vrbl = df_ens_dict[planet][y_name]\n",
    "    x_vrbl = df_ens_dict[planet][x_name] * chosen_x_diags[x_name][\"factor\"]\n",
    "    ds_x = (\n",
    "        lam_results[f\"{planet}_{run_key}\"][x_name.replace(\"_ss\", \"\")]\n",
    "        * chosen_x_diags[x_name][\"factor\"]\n",
    "    )\n",
    "\n",
    "    lr = scatter_plot_w_lin_reg(\n",
    "        ax, x_vrbl=x_vrbl, y_vrbl=y_vrbl, ds_x=ds_x, add_legend=(i == 0),\n",
    "    )\n",
    "\n",
    "    ax.set_xlabel(\n",
    "        chosen_x_diags[x_name][\"xlabel\"], fontsize=\"medium\",\n",
    "    )\n",
    "\n",
    "    if ax.is_first_col():\n",
    "        ax.set_ylabel(\n",
    "            \"Surface day-night temperature\\n\"\n",
    "            + r\"difference $\\overline{\\Delta T_{dn}}$ [$K$]\",\n",
    "            fontsize=\"medium\",\n",
    "        )\n",
    "plt.subplots_adjust(wspace=0.15, hspace=0.3)\n",
    "\n",
    "plt.close()  # Show the figure in a separate cell"
   ]
  },
  {
   "cell_type": "markdown",
   "metadata": {},
   "source": [
    "## Show the figure"
   ]
  },
  {
   "cell_type": "code",
   "execution_count": 18,
   "metadata": {},
   "outputs": [
    {
     "data": {
      "image/png": "[encoded data removed]",
      "text/plain": [
       "<Figure size 1600x400 with 2 Axes>"
      ]
     },
     "execution_count": 18,
     "metadata": {},
     "output_type": "execute_result"
    }
   ],
   "source": [
    "fig"
   ]
  },
  {
   "cell_type": "markdown",
   "metadata": {},
   "source": [
    "And save it."
   ]
  },
  {
   "cell_type": "code",
   "execution_count": 19,
   "metadata": {},
   "outputs": [],
   "source": [
    "imgname = (\n",
    "    mypaths.plotdir / f\"{NS_OUTPUT_NAME_PREFIX}__scatter_w_linreg__{x_name}__{y_name}\"\n",
    ")"
   ]
  },
  {
   "cell_type": "code",
   "execution_count": 20,
   "metadata": {},
   "outputs": [
    {
     "name": "stdout",
     "output_type": "stream",
     "text": [
      "Saved to ../plots/trap1e_proxb__grcs__scatter_w_linreg__hdiv_5_20km_ss__t_sfc_diff_dn\n"
     ]
    }
   ],
   "source": [
    "fig.savefig(imgname, dpi=200)\n",
    "print(f\"Saved to ../{imgname.relative_to(mypaths.topdir)}\")"
   ]
  }
 ],
 "metadata": {
  "kernelspec": {
   "display_name": "Python [conda env:exo]",
   "language": "python",
   "name": "conda-env-exo-py"
  },
  "language_info": {
   "codemirror_mode": {
    "name": "ipython",
    "version": 3
   },
   "file_extension": ".py",
   "mimetype": "text/x-python",
   "name": "python",
   "nbconvert_exporter": "python",
   "pygments_lexer": "ipython3",
   "version": "3.7.6"
  }
 },
 "nbformat": 4,
 "nbformat_minor": 4
}
