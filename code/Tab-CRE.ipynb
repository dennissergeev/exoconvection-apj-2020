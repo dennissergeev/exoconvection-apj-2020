{
 "cells": [
  {
   "cell_type": "markdown",
   "metadata": {},
   "source": [
    "# Table 3.\n",
    "\n",
    "Global top-of-atmosphere shortwave ($CRE_{SW}$), longwave ($CRE_{LW}$), and total ($CRE$) cloud radiative effect ($W~m^{-2}$) in the control and sensitivity simulations of Trappist-1e and Proxima b."
   ]
  },
  {
   "cell_type": "markdown",
   "metadata": {},
   "source": [
    "[Skip code and jump to the table](#Show-the-table)\n",
    "\n",
    "----------------------------------"
   ]
  },
  {
   "cell_type": "markdown",
   "metadata": {},
   "source": [
    "Import the necessary libraries."
   ]
  },
  {
   "cell_type": "code",
   "execution_count": 1,
   "metadata": {},
   "outputs": [],
   "source": [
    "import warnings\n",
    "\n",
    "warnings.filterwarnings(\"ignore\")"
   ]
  },
  {
   "cell_type": "code",
   "execution_count": 2,
   "metadata": {},
   "outputs": [],
   "source": [
    "import pandas as pd"
   ]
  },
  {
   "cell_type": "code",
   "execution_count": 3,
   "metadata": {},
   "outputs": [],
   "source": [
    "from aeolus.calc import last_year_mean, toa_cloud_radiative_effect\n",
    "from aeolus.core import Run"
   ]
  },
  {
   "cell_type": "code",
   "execution_count": 4,
   "metadata": {},
   "outputs": [],
   "source": [
    "from commons import (\n",
    "    GLM_MODEL_TIMESTEP,\n",
    "    PLANET_ALIASES,\n",
    "    RUN_ALIASES,\n",
    "    output_name_prefix,\n",
    ")\n",
    "import mypaths"
   ]
  },
  {
   "cell_type": "markdown",
   "metadata": {},
   "source": [
    "## Load data"
   ]
  },
  {
   "cell_type": "markdown",
   "metadata": {},
   "source": [
    "Create a dictionary of `Run` objects with preprocessed data."
   ]
  },
  {
   "cell_type": "code",
   "execution_count": 5,
   "metadata": {},
   "outputs": [],
   "source": [
    "runs = {}\n",
    "for planet in PLANET_ALIASES.keys():\n",
    "    for run_key in RUN_ALIASES.keys():\n",
    "        label = f\"{planet}_{run_key}\"\n",
    "        \n",
    "        fname = mypaths.sadir / label / \"_processed\" / f\"{label}.nc\"\n",
    "        \n",
    "        runs[label] = Run(\n",
    "            files=fname, name=label, planet=planet, timestep=GLM_MODEL_TIMESTEP\n",
    "        )"
   ]
  },
  {
   "cell_type": "markdown",
   "metadata": {},
   "source": [
    "## Calculate global CRE"
   ]
  },
  {
   "cell_type": "code",
   "execution_count": 6,
   "metadata": {},
   "outputs": [],
   "source": [
    "diags = {\n",
    "    \"$CRE_{SW}$\": lambda cl: toa_cloud_radiative_effect(cl, kind=\"sw\"),\n",
    "    \"$CRE_{LW}$\": lambda cl: toa_cloud_radiative_effect(cl, kind=\"lw\"),\n",
    "    \"$CRE$\": lambda cl: toa_cloud_radiative_effect(cl, kind=\"total\"),\n",
    "}"
   ]
  },
  {
   "cell_type": "markdown",
   "metadata": {},
   "source": [
    "Loop over planets and runs and store results in a `DataFrame`."
   ]
  },
  {
   "cell_type": "code",
   "execution_count": 7,
   "metadata": {},
   "outputs": [],
   "source": [
    "results = {}\n",
    "for planet in PLANET_ALIASES.keys():\n",
    "    dfs = {}\n",
    "    for run_key in RUN_ALIASES.keys():\n",
    "        label = f\"{planet}_{run_key}\"\n",
    "\n",
    "        _data = {}\n",
    "        for vrbl, _calc in diags.items():\n",
    "            _data[vrbl] = float(last_year_mean(_calc(runs[label].proc)).data)\n",
    "        dfs[run_key] = pd.DataFrame(\n",
    "            _data, index=pd.Index(name=\"Simulation\", data=[run_key])\n",
    "        )\n",
    "    results[planet] = pd.concat(dfs, axis=\"index\").droplevel(0).T\n",
    "df = pd.concat(results).T\n",
    "df = df.rename(index=RUN_ALIASES).rename(columns=PLANET_ALIASES)"
   ]
  },
  {
   "cell_type": "markdown",
   "metadata": {},
   "source": [
    "Print the `DataFrame` to LaTeX."
   ]
  },
  {
   "cell_type": "code",
   "execution_count": 8,
   "metadata": {},
   "outputs": [
    {
     "name": "stdout",
     "output_type": "stream",
     "text": [
      "\\begin{tabular}{lcccccc}\n",
      "\\toprule\n",
      "{} & \\multicolumn{3}{l}{Trappist-1e} & \\multicolumn{3}{l}{Proxima b} \\\\\n",
      "{} &  $CRE_{SW}$ & $CRE_{LW}$ & $CRE$ & $CRE_{SW}$ & $CRE_{LW}$ & $CRE$ \\\\\n",
      "Simulation &             &            &       &            &            &       \\\\\n",
      "\\midrule\n",
      "MassFlux   &       -52.6 &       10.4 & -42.1 &      -58.5 &       15.7 & -42.8 \\\\\n",
      "Adjust     &       -20.0 &        7.1 & -12.8 &      -20.1 &       10.5 &  -9.6 \\\\\n",
      "NoCnvPm    &       -57.4 &       13.2 & -44.2 &      -63.9 &       13.5 & -50.4 \\\\\n",
      "\\bottomrule\n",
      "\\end{tabular}\n",
      "\n"
     ]
    }
   ],
   "source": [
    "print(\n",
    "    df.to_latex(\n",
    "        formatters={k: lambda x: f\"{x:.1f}\" for k in df.columns},\n",
    "        column_format=\"lcccccc\",\n",
    "        escape=False,\n",
    "    )\n",
    ")"
   ]
  }
 ],
 "metadata": {
  "kernelspec": {
   "display_name": "Python [conda env:exo]",
   "language": "python",
   "name": "conda-env-exo-py"
  },
  "language_info": {
   "codemirror_mode": {
    "name": "ipython",
    "version": 3
   },
   "file_extension": ".py",
   "mimetype": "text/x-python",
   "name": "python",
   "nbconvert_exporter": "python",
   "pygments_lexer": "ipython3",
   "version": "3.7.6"
  }
 },
 "nbformat": 4,
 "nbformat_minor": 4
}
