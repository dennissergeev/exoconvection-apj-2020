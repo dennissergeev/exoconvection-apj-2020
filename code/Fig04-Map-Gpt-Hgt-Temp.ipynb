{
 "cells": [
  {
   "cell_type": "markdown",
   "metadata": {},
   "source": [
    "# Figure 4.\n",
    "\n",
    "Eddy geopotential height (shading, $m$) and eddy components of horizontal wind vectors 250 $hPa$ and air temperature (contours, $K$) at 700 $hPa$ in the (left column) Trappist-1e case and (right column) Proxima b case in (a, b) *MassFlux*, (c, d) *Adjust*, and (e, f) *NoCnvPm* simulations. Here the eddy component is taken as the deviation from the temporal and zonal mean."
   ]
  },
  {
   "cell_type": "markdown",
   "metadata": {},
   "source": [
    "[Skip code and jump to the figure](#Show-the-figure)\n",
    "\n",
    "----------------------------------"
   ]
  },
  {
   "cell_type": "markdown",
   "metadata": {},
   "source": [
    "Import the necessary libraries."
   ]
  },
  {
   "cell_type": "code",
   "execution_count": 1,
   "metadata": {},
   "outputs": [],
   "source": [
    "import warnings\n",
    "\n",
    "warnings.filterwarnings(\"ignore\")"
   ]
  },
  {
   "cell_type": "code",
   "execution_count": 2,
   "metadata": {},
   "outputs": [],
   "source": [
    "import iris\n",
    "\n",
    "import matplotlib.pyplot as plt\n",
    "import matplotlib.patheffects as PE\n",
    "\n",
    "import numpy as np"
   ]
  },
  {
   "cell_type": "code",
   "execution_count": 3,
   "metadata": {},
   "outputs": [],
   "source": [
    "from aeolus.calc import last_year_mean, zonal_mean\n",
    "from aeolus.coord_utils import UM_TIME\n",
    "from aeolus.core import Run"
   ]
  },
  {
   "cell_type": "code",
   "execution_count": 4,
   "metadata": {},
   "outputs": [],
   "source": [
    "from commons import (\n",
    "    GLM_MODEL_TIMESTEP,\n",
    "    PLANET_ALIASES,\n",
    "    RUN_ALIASES,\n",
    "    OUTPUT_NAME_PREFIX,\n",
    ")\n",
    "from gl_diag import calc_derived_cubes, interp_to_pressure_levels\n",
    "import mypaths\n",
    "from plot_func import (\n",
    "    CART_KW,\n",
    "    MARKER_KW,\n",
    "    add_aux_yticks,\n",
    "    add_custom_legend,\n",
    "    draw_scalar_cube,\n",
    "    draw_vector_cubes,\n",
    "    make_map_figure,\n",
    "    use_style,\n",
    ")"
   ]
  },
  {
   "cell_type": "markdown",
   "metadata": {},
   "source": [
    "Global stylesheet for figures."
   ]
  },
  {
   "cell_type": "code",
   "execution_count": 5,
   "metadata": {},
   "outputs": [],
   "source": [
    "use_style()"
   ]
  },
  {
   "cell_type": "markdown",
   "metadata": {},
   "source": [
    "## Load data"
   ]
  },
  {
   "cell_type": "markdown",
   "metadata": {},
   "source": [
    "Create a dictionary of `Run` objects with preprocessed data."
   ]
  },
  {
   "cell_type": "code",
   "execution_count": 6,
   "metadata": {},
   "outputs": [],
   "source": [
    "runs = {}\n",
    "for planet in PLANET_ALIASES.keys():\n",
    "    for run_key in RUN_ALIASES.keys():\n",
    "        label = f\"{planet}_{run_key}\"\n",
    "\n",
    "        fname = mypaths.sadir / label / \"_processed\" / f\"{label}.nc\"\n",
    "\n",
    "        runs[label] = Run(\n",
    "            files=fname,\n",
    "            name=label,\n",
    "            planet=planet,\n",
    "            timestep=GLM_MODEL_TIMESTEP,\n",
    "            processed=True,\n",
    "        )\n",
    "        runs[label].add_data(calc_derived_cubes)"
   ]
  },
  {
   "cell_type": "markdown",
   "metadata": {},
   "source": [
    "## Additional local functions"
   ]
  },
  {
   "cell_type": "markdown",
   "metadata": {},
   "source": [
    "Define functions to calculate eddy components"
   ]
  },
  {
   "cell_type": "code",
   "execution_count": 7,
   "metadata": {},
   "outputs": [],
   "source": [
    "def zonal_and_time_mean_eddy_cmpnts(cube):\n",
    "    \"\"\"Get the zonal and temporal mean and eddy components of a cube.\"\"\"\n",
    "    mean = zonal_mean(cube).collapsed(UM_TIME, iris.analysis.MEAN)\n",
    "    eddy = (cube - mean).collapsed(UM_TIME, iris.analysis.MEAN)\n",
    "    for i in [mean, eddy]:\n",
    "        i.attributes.update({k: v for k, v in cube.attributes.items() if k != \"STASH\"})\n",
    "    return mean, eddy"
   ]
  },
  {
   "cell_type": "code",
   "execution_count": 8,
   "metadata": {},
   "outputs": [],
   "source": [
    "def _g_hgt_eddy_mean(cubelist, level):\n",
    "    \"\"\"Get the mean eddy component of geopotential height.\"\"\"\n",
    "    g_hgt_plev = interp_to_pressure_levels(cubelist, \"geopotential_height\", level)\n",
    "\n",
    "    g_hgt_plev_mean, g_hgt_plev_eddy = zonal_and_time_mean_eddy_cmpnts(g_hgt_plev)\n",
    "\n",
    "    g_hgt_eddy_mean_slice = g_hgt_plev_eddy.extract(iris.Constraint(air_pressure=level))\n",
    "    g_hgt_eddy_mean_slice /= g_hgt_eddy_mean_slice.attributes[\"planet_conf\"].gravity.asc\n",
    "    return g_hgt_eddy_mean_slice"
   ]
  },
  {
   "cell_type": "markdown",
   "metadata": {},
   "source": [
    "## Plot the results"
   ]
  },
  {
   "cell_type": "markdown",
   "metadata": {},
   "source": [
    "Pressure level of the geopotential height."
   ]
  },
  {
   "cell_type": "code",
   "execution_count": 9,
   "metadata": {},
   "outputs": [],
   "source": [
    "P_LEVEL = 250 * 1e2  # Pa"
   ]
  },
  {
   "cell_type": "markdown",
   "metadata": {},
   "source": [
    "Pressure level of the temperature field."
   ]
  },
  {
   "cell_type": "code",
   "execution_count": 10,
   "metadata": {},
   "outputs": [],
   "source": [
    "P_LEVEL_TEMP = 700 * 1e2  # Pa"
   ]
  },
  {
   "cell_type": "markdown",
   "metadata": {},
   "source": [
    "Plot settings"
   ]
  },
  {
   "cell_type": "code",
   "execution_count": 11,
   "metadata": {},
   "outputs": [],
   "source": [
    "# Axes grid specs\n",
    "AXGR_KW = dict(\n",
    "    axes_pad=(0.5, 0.4),\n",
    "    cbar_location=\"right\",\n",
    "    cbar_mode=\"single\",\n",
    "    cbar_pad=0.3,\n",
    "    cbar_size=\"1.5%\",\n",
    "    label_mode=\"\",\n",
    ")\n",
    "\n",
    "# Arrow specs\n",
    "quiver_kw = dict(\n",
    "    scale_units=\"inches\",\n",
    "    scale=125,\n",
    "    facecolors=(\"#444444\"),\n",
    "    edgecolors=(\"#EEEEEE\"),\n",
    "    linewidths=0.3,\n",
    "    width=0.004,\n",
    "    headaxislength=4,\n",
    ")"
   ]
  },
  {
   "cell_type": "markdown",
   "metadata": {},
   "source": [
    "Colormap for the surface temperature differences"
   ]
  },
  {
   "cell_type": "code",
   "execution_count": null,
   "metadata": {},
   "outputs": [],
   "source": [
    "fig, axgr = make_map_figure(2, 3, **AXGR_KW)\n",
    "\n",
    "cax = axgr.cbar_axes[0]\n",
    "for i, (planet, ax_col) in enumerate(zip(PLANET_ALIASES, axgr.axes_column)):\n",
    "    for run_key, ax in zip(RUN_ALIASES.keys(), ax_col):\n",
    "        if i == 0 and run_key == \"grcs\":\n",
    "            qk_ref_wspd = 30\n",
    "        else:\n",
    "            qk_ref_wspd = None\n",
    "        label = f\"{planet}_{run_key}\"\n",
    "        ax.set_title(RUN_ALIASES[run_key], fontsize=\"medium\", pad=5, loc=\"right\")\n",
    "        if run_key == \"grcs\":\n",
    "            ax.set_title(PLANET_ALIASES[planet], fontsize=\"large\", pad=5, loc=\"center\")\n",
    "\n",
    "        g_hgt_eddy_mean_slice = _g_hgt_eddy_mean(runs[label].proc, [P_LEVEL])\n",
    "\n",
    "        u = interp_to_pressure_levels(runs[label].proc, \"x_wind\", [P_LEVEL])\n",
    "        v = interp_to_pressure_levels(runs[label].proc, \"y_wind\", [P_LEVEL])\n",
    "        _, u_eddy = zonal_and_time_mean_eddy_cmpnts(u)\n",
    "        _, v_eddy = zonal_and_time_mean_eddy_cmpnts(v)\n",
    "\n",
    "        temp = interp_to_pressure_levels(\n",
    "            runs[label].proc, \"air_temperature\", [P_LEVEL_TEMP]\n",
    "        )\n",
    "        temp = last_year_mean(temp)\n",
    "        draw_scalar_cube(\n",
    "            g_hgt_eddy_mean_slice,\n",
    "            ax,\n",
    "            method=\"contourf\",\n",
    "            cax=cax,\n",
    "            tex_units=\"$m$\",\n",
    "            cmap=\"RdBu_r\",\n",
    "            levels=np.arange(-200, 201, 50),\n",
    "            extend=\"both\",\n",
    "        )\n",
    "\n",
    "        cntr = draw_scalar_cube(\n",
    "            temp,\n",
    "            ax,\n",
    "            method=\"contour\",\n",
    "            cmap=\"plasma\",\n",
    "            use_cyclic=False,\n",
    "            levels=np.arange(225, 280, 5),\n",
    "        )\n",
    "        clbls = ax.clabel(cntr, fmt=\"%.0f K\", use_clabeltext=True)\n",
    "        plt.setp(\n",
    "            cntr.collections, path_effects=[PE.withStroke(linewidth=2, foreground=\"w\")]\n",
    "        )\n",
    "        plt.setp(clbls, path_effects=[PE.withStroke(linewidth=2, foreground=\"w\")])\n",
    "\n",
    "        draw_vector_cubes(\n",
    "            u_eddy,\n",
    "            v_eddy,\n",
    "            ax,\n",
    "            xstride=8,\n",
    "            ystride=6,\n",
    "            qk_ref_wspd=qk_ref_wspd,\n",
    "            **quiver_kw,\n",
    "            **CART_KW,\n",
    "        )\n",
    "plt.close()  # Show the figure in a separate cell"
   ]
  },
  {
   "cell_type": "markdown",
   "metadata": {},
   "source": [
    "## Show the figure"
   ]
  },
  {
   "cell_type": "code",
   "execution_count": null,
   "metadata": {},
   "outputs": [],
   "source": [
    "fig"
   ]
  },
  {
   "cell_type": "markdown",
   "metadata": {},
   "source": [
    "And save it."
   ]
  },
  {
   "cell_type": "code",
   "execution_count": null,
   "metadata": {},
   "outputs": [],
   "source": [
    "imgname = (\n",
    "    mypaths.plotdir\n",
    "    / f\"{OUTPUT_NAME_PREFIX}__ghgt_winds_eddy__{P_LEVEL/100:.0f}hpa__temp__{P_LEVEL_TEMP/100:.0f}hpa\"\n",
    ")"
   ]
  },
  {
   "cell_type": "code",
   "execution_count": null,
   "metadata": {},
   "outputs": [],
   "source": [
    "fig.savefig(imgname, dpi=200)\n",
    "print(f\"Saved to ../{imgname.relative_to(mypaths.topdir)}\")"
   ]
  }
 ],
 "metadata": {
  "kernelspec": {
   "display_name": "Python [conda env:exo]",
   "language": "python",
   "name": "conda-env-exo-py"
  },
  "language_info": {
   "codemirror_mode": {
    "name": "ipython",
    "version": 3
   },
   "file_extension": ".py",
   "mimetype": "text/x-python",
   "name": "python",
   "nbconvert_exporter": "python",
   "pygments_lexer": "ipython3",
   "version": "3.7.6"
  }
 },
 "nbformat": 4,
 "nbformat_minor": 4
}
