{
 "cells": [
  {
   "cell_type": "markdown",
   "metadata": {},
   "source": [
    "# Figure 11.\n",
    "\n",
    "Histograms of instantaneous TOA OLR values in (a, b) the full *HighRes* domain, sampled over 100 days, and (c, d) in the central part of the *HighRes* domain (shown by the blue box in Figs. 9 and 10), sampled over 10 days for (a) Trappist-1e and (b) Proxima b. Light blue bars show the global model values, while dark blue bars show *HighRes* model values"
   ]
  },
  {
   "cell_type": "markdown",
   "metadata": {},
   "source": [
    "[Skip code and jump to the figure](#Show-the-figure)\n",
    "\n",
    "----------------------------------"
   ]
  },
  {
   "cell_type": "markdown",
   "metadata": {},
   "source": [
    "Import the necessary libraries."
   ]
  },
  {
   "cell_type": "code",
   "execution_count": 1,
   "metadata": {},
   "outputs": [],
   "source": [
    "import warnings\n",
    "\n",
    "warnings.filterwarnings(\"ignore\")"
   ]
  },
  {
   "cell_type": "code",
   "execution_count": 2,
   "metadata": {},
   "outputs": [],
   "source": [
    "from datetime import datetime, timedelta"
   ]
  },
  {
   "cell_type": "code",
   "execution_count": 3,
   "metadata": {},
   "outputs": [],
   "source": [
    "from fastprogress import progress_bar"
   ]
  },
  {
   "cell_type": "code",
   "execution_count": 4,
   "metadata": {},
   "outputs": [],
   "source": [
    "import iris\n",
    "\n",
    "import numpy as np\n",
    "\n",
    "import matplotlib.pyplot as plt"
   ]
  },
  {
   "cell_type": "code",
   "execution_count": 5,
   "metadata": {},
   "outputs": [],
   "source": [
    "from aeolus.coord_utils import UM_LATLON\n",
    "from aeolus.core import Run\n",
    "from aeolus.region import Region\n",
    "from aeolus.subset import _dim_constr\n",
    "from aeolus.util import fmt_lonlat, subplot_label_generator"
   ]
  },
  {
   "cell_type": "code",
   "execution_count": 6,
   "metadata": {},
   "outputs": [],
   "source": [
    "from commons import (\n",
    "    DT_FMT,\n",
    "    GLM_RUNID,\n",
    "    NS_COLORS,\n",
    "    NS_MODEL_TYPES,\n",
    "    NS_OUTPUT_NAME_PREFIX,\n",
    "    NS_RUN_ALIASES,\n",
    "    NS_RUNID,\n",
    "    PLANET_ALIASES,\n",
    "    SS_REGION,\n",
    ")\n",
    "import mypaths\n",
    "from plot_func import use_style\n",
    "from proc_um_output import process_cubes"
   ]
  },
  {
   "cell_type": "markdown",
   "metadata": {},
   "source": [
    "Global stylesheet for figures."
   ]
  },
  {
   "cell_type": "code",
   "execution_count": 7,
   "metadata": {},
   "outputs": [],
   "source": [
    "use_style()"
   ]
  },
  {
   "cell_type": "markdown",
   "metadata": {},
   "source": [
    "A few local definitions"
   ]
  },
  {
   "cell_type": "code",
   "execution_count": 8,
   "metadata": {},
   "outputs": [],
   "source": [
    "model_label_aliases = {\"global\": \"Global\", \"lam\": \"HighRes\"}"
   ]
  },
  {
   "cell_type": "code",
   "execution_count": 9,
   "metadata": {},
   "outputs": [],
   "source": [
    "FCST_PERIOD_CNSTR = iris.Constraint(forecast_period=lambda x: 9 < x < 15)"
   ]
  },
  {
   "cell_type": "code",
   "execution_count": 10,
   "metadata": {},
   "outputs": [],
   "source": [
    "FCST_DIM_CNSTR = _dim_constr(\"forecast_period\", strict=False)"
   ]
  },
  {
   "cell_type": "markdown",
   "metadata": {},
   "source": [
    "Define two sampling methods: a large domain and the duration of 100 days, and a smaller domain with only the last 10 days."
   ]
  },
  {
   "cell_type": "code",
   "execution_count": 11,
   "metadata": {},
   "outputs": [],
   "source": [
    "# Simulation time (the UM simulation length is defined using real Earth dates,\n",
    "# whose exact values obviously do not matter for exoplanets)\n",
    "\n",
    "SAMPLE_METHODS = {\n",
    "    \"100day_full_domain\": {\n",
    "        \"start\": datetime(2009, 4, 28, 9, 0),\n",
    "        \"ndays\": 100,\n",
    "        \"region\": Region(-22, 42, -30, 30, \"highres_domain\"),\n",
    "        \"title\": \"Full HighRes domain,\\nlast 100 days\",\n",
    "    },\n",
    "    \"10day_ss_region\": {\n",
    "        \"start\": datetime(2009, 7, 27, 9, 0),\n",
    "        \"ndays\": 10,\n",
    "        \"region\": SS_REGION,\n",
    "        \"title\": \"Subset of HighRes domain,\\nlast 10 days\",\n",
    "    },\n",
    "}"
   ]
  },
  {
   "cell_type": "markdown",
   "metadata": {},
   "source": [
    "## Load data"
   ]
  },
  {
   "cell_type": "markdown",
   "metadata": {},
   "source": [
    "Change file mask to load only the files with TOA radiation data."
   ]
  },
  {
   "cell_type": "code",
   "execution_count": 12,
   "metadata": {},
   "outputs": [],
   "source": [
    "NS_MODEL_TYPES[\"global\"][\"path\"] = (\n",
    "    NS_MODEL_TYPES[\"global\"][\"path\"].parent / f\"{GLM_RUNID}_pd*\"\n",
    ")\n",
    "NS_MODEL_TYPES[\"lam\"][\"path\"] = NS_MODEL_TYPES[\"lam\"][\"path\"].parent / f\"{NS_RUNID}_pa*\""
   ]
  },
  {
   "cell_type": "markdown",
   "metadata": {},
   "source": [
    "Create a dictionary of `Run` objects with UM data."
   ]
  },
  {
   "cell_type": "code",
   "execution_count": 13,
   "metadata": {},
   "outputs": [
    {
     "data": {
      "text/html": [
       "\n",
       "    <div>\n",
       "        <style>\n",
       "            /* Turns off some styling */\n",
       "            progress {\n",
       "                /* gets rid of default border in Firefox and Opera. */\n",
       "                border: none;\n",
       "                /* Needs to be in here for Safari polyfill so background images work as expected. */\n",
       "                background-size: auto;\n",
       "            }\n",
       "            .progress-bar-interrupted, .progress-bar-interrupted::-webkit-progress-bar {\n",
       "                background: #F44336;\n",
       "            }\n",
       "        </style>\n",
       "      <progress value='2' class='' max='2', style='width:300px; height:20px; vertical-align: middle;'></progress>\n",
       "      100.00% [2/2 00:23<00:00]\n",
       "    </div>\n",
       "    "
      ],
      "text/plain": [
       "<IPython.core.display.HTML object>"
      ]
     },
     "metadata": {},
     "output_type": "display_data"
    },
    {
     "data": {
      "text/html": [
       "\n",
       "    <div>\n",
       "        <style>\n",
       "            /* Turns off some styling */\n",
       "            progress {\n",
       "                /* gets rid of default border in Firefox and Opera. */\n",
       "                border: none;\n",
       "                /* Needs to be in here for Safari polyfill so background images work as expected. */\n",
       "                background-size: auto;\n",
       "            }\n",
       "            .progress-bar-interrupted, .progress-bar-interrupted::-webkit-progress-bar {\n",
       "                background: #F44336;\n",
       "            }\n",
       "        </style>\n",
       "      <progress value='1' class='' max='1', style='width:300px; height:20px; vertical-align: middle;'></progress>\n",
       "      100.00% [1/1 00:11<00:00]\n",
       "    </div>\n",
       "    "
      ],
      "text/plain": [
       "<IPython.core.display.HTML object>"
      ]
     },
     "metadata": {},
     "output_type": "display_data"
    },
    {
     "data": {
      "text/html": [
       "\n",
       "    <div>\n",
       "        <style>\n",
       "            /* Turns off some styling */\n",
       "            progress {\n",
       "                /* gets rid of default border in Firefox and Opera. */\n",
       "                border: none;\n",
       "                /* Needs to be in here for Safari polyfill so background images work as expected. */\n",
       "                background-size: auto;\n",
       "            }\n",
       "            .progress-bar-interrupted, .progress-bar-interrupted::-webkit-progress-bar {\n",
       "                background: #F44336;\n",
       "            }\n",
       "        </style>\n",
       "      <progress value='2' class='' max='2', style='width:300px; height:20px; vertical-align: middle;'></progress>\n",
       "      100.00% [2/2 00:11<00:00]\n",
       "    </div>\n",
       "    "
      ],
      "text/plain": [
       "<IPython.core.display.HTML object>"
      ]
     },
     "metadata": {},
     "output_type": "display_data"
    },
    {
     "data": {
      "text/html": [
       "\n",
       "    <div>\n",
       "        <style>\n",
       "            /* Turns off some styling */\n",
       "            progress {\n",
       "                /* gets rid of default border in Firefox and Opera. */\n",
       "                border: none;\n",
       "                /* Needs to be in here for Safari polyfill so background images work as expected. */\n",
       "                background-size: auto;\n",
       "            }\n",
       "            .progress-bar-interrupted, .progress-bar-interrupted::-webkit-progress-bar {\n",
       "                background: #F44336;\n",
       "            }\n",
       "        </style>\n",
       "      <progress value='2' class='' max='2', style='width:300px; height:20px; vertical-align: middle;'></progress>\n",
       "      100.00% [2/2 00:09<00:00]\n",
       "    </div>\n",
       "    "
      ],
      "text/plain": [
       "<IPython.core.display.HTML object>"
      ]
     },
     "metadata": {},
     "output_type": "display_data"
    },
    {
     "data": {
      "text/html": [
       "\n",
       "    <div>\n",
       "        <style>\n",
       "            /* Turns off some styling */\n",
       "            progress {\n",
       "                /* gets rid of default border in Firefox and Opera. */\n",
       "                border: none;\n",
       "                /* Needs to be in here for Safari polyfill so background images work as expected. */\n",
       "                background-size: auto;\n",
       "            }\n",
       "            .progress-bar-interrupted, .progress-bar-interrupted::-webkit-progress-bar {\n",
       "                background: #F44336;\n",
       "            }\n",
       "        </style>\n",
       "      <progress value='2' class='' max='2', style='width:300px; height:20px; vertical-align: middle;'></progress>\n",
       "      100.00% [2/2 00:02<00:00]\n",
       "    </div>\n",
       "    "
      ],
      "text/plain": [
       "<IPython.core.display.HTML object>"
      ]
     },
     "metadata": {},
     "output_type": "display_data"
    },
    {
     "data": {
      "text/html": [
       "\n",
       "    <div>\n",
       "        <style>\n",
       "            /* Turns off some styling */\n",
       "            progress {\n",
       "                /* gets rid of default border in Firefox and Opera. */\n",
       "                border: none;\n",
       "                /* Needs to be in here for Safari polyfill so background images work as expected. */\n",
       "                background-size: auto;\n",
       "            }\n",
       "            .progress-bar-interrupted, .progress-bar-interrupted::-webkit-progress-bar {\n",
       "                background: #F44336;\n",
       "            }\n",
       "        </style>\n",
       "      <progress value='1' class='' max='1', style='width:300px; height:20px; vertical-align: middle;'></progress>\n",
       "      100.00% [1/1 00:12<00:00]\n",
       "    </div>\n",
       "    "
      ],
      "text/plain": [
       "<IPython.core.display.HTML object>"
      ]
     },
     "metadata": {},
     "output_type": "display_data"
    },
    {
     "data": {
      "text/html": [
       "\n",
       "    <div>\n",
       "        <style>\n",
       "            /* Turns off some styling */\n",
       "            progress {\n",
       "                /* gets rid of default border in Firefox and Opera. */\n",
       "                border: none;\n",
       "                /* Needs to be in here for Safari polyfill so background images work as expected. */\n",
       "                background-size: auto;\n",
       "            }\n",
       "            .progress-bar-interrupted, .progress-bar-interrupted::-webkit-progress-bar {\n",
       "                background: #F44336;\n",
       "            }\n",
       "        </style>\n",
       "      <progress value='2' class='' max='2', style='width:300px; height:20px; vertical-align: middle;'></progress>\n",
       "      100.00% [2/2 00:12<00:00]\n",
       "    </div>\n",
       "    "
      ],
      "text/plain": [
       "<IPython.core.display.HTML object>"
      ]
     },
     "metadata": {},
     "output_type": "display_data"
    },
    {
     "data": {
      "text/html": [
       "\n",
       "    <div>\n",
       "        <style>\n",
       "            /* Turns off some styling */\n",
       "            progress {\n",
       "                /* gets rid of default border in Firefox and Opera. */\n",
       "                border: none;\n",
       "                /* Needs to be in here for Safari polyfill so background images work as expected. */\n",
       "                background-size: auto;\n",
       "            }\n",
       "            .progress-bar-interrupted, .progress-bar-interrupted::-webkit-progress-bar {\n",
       "                background: #F44336;\n",
       "            }\n",
       "        </style>\n",
       "      <progress value='2' class='' max='2', style='width:300px; height:20px; vertical-align: middle;'></progress>\n",
       "      100.00% [2/2 00:09<00:00]\n",
       "    </div>\n",
       "    "
      ],
      "text/plain": [
       "<IPython.core.display.HTML object>"
      ]
     },
     "metadata": {},
     "output_type": "display_data"
    },
    {
     "data": {
      "text/html": [
       "\n",
       "    <div>\n",
       "        <style>\n",
       "            /* Turns off some styling */\n",
       "            progress {\n",
       "                /* gets rid of default border in Firefox and Opera. */\n",
       "                border: none;\n",
       "                /* Needs to be in here for Safari polyfill so background images work as expected. */\n",
       "                background-size: auto;\n",
       "            }\n",
       "            .progress-bar-interrupted, .progress-bar-interrupted::-webkit-progress-bar {\n",
       "                background: #F44336;\n",
       "            }\n",
       "        </style>\n",
       "      <progress value='2' class='' max='2', style='width:300px; height:20px; vertical-align: middle;'></progress>\n",
       "      100.00% [2/2 00:02<00:00]\n",
       "    </div>\n",
       "    "
      ],
      "text/plain": [
       "<IPython.core.display.HTML object>"
      ]
     },
     "metadata": {},
     "output_type": "display_data"
    }
   ],
   "source": [
    "runs = {}\n",
    "for planet in progress_bar(PLANET_ALIASES.keys()):\n",
    "    for run_key in progress_bar(NS_RUN_ALIASES.keys()):\n",
    "        for model_type, model_specs in progress_bar(NS_MODEL_TYPES.items()):\n",
    "            subdir = f\"{planet}_{run_key}\"\n",
    "            for sm_key, sample_method in progress_bar(SAMPLE_METHODS.items()):\n",
    "                label = f\"{planet}_{run_key}_{model_type}_{sm_key}\"\n",
    "                flist = []\n",
    "                for i in range(sample_method[\"ndays\"]):\n",
    "                    _cycle = (sample_method[\"start\"] + timedelta(days=i)).strftime(\n",
    "                        DT_FMT\n",
    "                    )\n",
    "                    flist.append(mypaths.nsdir / subdir / _cycle / model_specs[\"path\"])\n",
    "                # Load data\n",
    "                run = Run(\n",
    "                    files=flist,\n",
    "                    name=label,\n",
    "                    planet=planet,\n",
    "                    model_type=model_type,\n",
    "                    timestep=model_specs[\"timestep\"],\n",
    "                )\n",
    "                # Regrid & interpolate data\n",
    "                run.proc_data(\n",
    "                    process_cubes,\n",
    "                    timestep=run.timestep,\n",
    "                    extract_mean=False,\n",
    "                    regrid_multi_lev=False,\n",
    "                )\n",
    "                # Select domain\n",
    "                run.proc = run.proc.extract(sample_method[\"region\"].constraint)\n",
    "                # Save to dict\n",
    "                runs[label] = run"
   ]
  },
  {
   "cell_type": "markdown",
   "metadata": {},
   "source": [
    "## Calculate the distribution of TOA OLR"
   ]
  },
  {
   "cell_type": "code",
   "execution_count": 14,
   "metadata": {},
   "outputs": [],
   "source": [
    "varname = \"toa_outgoing_longwave_flux\"\n",
    "short_name = \"TOA OLR\"\n",
    "tex_units = \"$W$ $m^{-2}$\""
   ]
  },
  {
   "cell_type": "markdown",
   "metadata": {},
   "source": [
    "Define histogram bins"
   ]
  },
  {
   "cell_type": "code",
   "execution_count": 15,
   "metadata": {},
   "outputs": [],
   "source": [
    "bin_step = 5\n",
    "bins = np.arange(50, 301, bin_step)\n",
    "bin_mid = (bins[:-1] + bins[1:]) * 0.5"
   ]
  },
  {
   "cell_type": "markdown",
   "metadata": {},
   "source": [
    "Calculate a histogram for each of the simulations."
   ]
  },
  {
   "cell_type": "code",
   "execution_count": 16,
   "metadata": {},
   "outputs": [],
   "source": [
    "hist_dict = {}\n",
    "for planet in PLANET_ALIASES.keys():\n",
    "    hist_dict[planet] = {}\n",
    "    for run_key in NS_RUN_ALIASES.keys():\n",
    "        hist_dict[planet][run_key] = {}\n",
    "        for model_type in NS_MODEL_TYPES.keys():\n",
    "            hist_dict[planet][run_key][model_type] = {}\n",
    "            for sm_key, sample_method in SAMPLE_METHODS.items():\n",
    "                label = f\"{planet}_{run_key}_{model_type}_{sm_key}\"\n",
    "                cube = (\n",
    "                    runs[label].proc.extract(FCST_PERIOD_CNSTR).extract_strict(varname)\n",
    "                )\n",
    "                ntimes = cube.coord(\"time\").shape[-1]\n",
    "                arr = cube.data\n",
    "                tot_pnts = arr.size\n",
    "                hist, _ = np.histogram(arr.ravel(), bins=bins)\n",
    "                hist_dict[planet][run_key][model_type][sm_key] = hist / tot_pnts * 100"
   ]
  },
  {
   "cell_type": "markdown",
   "metadata": {},
   "source": [
    "## Plot the results"
   ]
  },
  {
   "cell_type": "markdown",
   "metadata": {},
   "source": [
    "Create a plot"
   ]
  },
  {
   "cell_type": "code",
   "execution_count": 17,
   "metadata": {},
   "outputs": [],
   "source": [
    "ncol = len(PLANET_ALIASES)\n",
    "nrow = len(SAMPLE_METHODS)\n",
    "\n",
    "fig, axs = plt.subplots(nrows=nrow, ncols=ncol, figsize=(8 * ncol, 4 * nrow))\n",
    "\n",
    "iletters = subplot_label_generator()\n",
    "for (sm_key, sample_method), axrow in zip(SAMPLE_METHODS.items(), axs):\n",
    "    for i, (planet, ax) in enumerate(zip(PLANET_ALIASES, axrow)):\n",
    "        ax.set_title(f\"({next(iletters)})\", fontsize=\"small\", pad=5, loc=\"left\")\n",
    "        ax.set_title(sample_method[\"title\"], fontsize=\"small\", pad=5, loc=\"right\")\n",
    "        if ax.is_first_row():\n",
    "            ax.set_title(PLANET_ALIASES[planet], fontsize=\"large\", pad=5, loc=\"center\")\n",
    "        if ax.is_first_col():\n",
    "            ax.set_ylabel(\"[% of grid points]\")\n",
    "        if ax.is_last_row():\n",
    "            ax.set_xlabel(f\"{short_name} within the substellar region [{tex_units}]\")\n",
    "\n",
    "        for run_key in NS_RUN_ALIASES.keys():\n",
    "            for model_type in NS_MODEL_TYPES.keys():\n",
    "\n",
    "                ax.bar(\n",
    "                    bin_mid,\n",
    "                    hist_dict[planet][run_key][model_type][sm_key],\n",
    "                    width=bin_step,\n",
    "                    alpha=0.5,\n",
    "                    color=NS_COLORS[run_key][model_type],\n",
    "                    label=model_label_aliases[model_type],\n",
    "                )\n",
    "\n",
    "        ax.set_xlim(bins[0], bins[-1])\n",
    "        ax.set_xticks(bins[::5])\n",
    "\n",
    "ax = axs.flatten()[-1]\n",
    "leg = ax.legend(loc=\"upper right\")\n",
    "\n",
    "plt.subplots_adjust(wspace=0.1, hspace=0.25)\n",
    "plt.close()  # Show the figure in a separate cell"
   ]
  },
  {
   "cell_type": "markdown",
   "metadata": {},
   "source": [
    "## Show the figure"
   ]
  },
  {
   "cell_type": "code",
   "execution_count": 18,
   "metadata": {},
   "outputs": [
    {
     "data": {
      "image/png": "[encoded data removed]",
      "text/plain": [
       "<Figure size 1600x800 with 4 Axes>"
      ]
     },
     "execution_count": 18,
     "metadata": {},
     "output_type": "execute_result"
    }
   ],
   "source": [
    "fig"
   ]
  },
  {
   "cell_type": "markdown",
   "metadata": {},
   "source": [
    "And save it."
   ]
  },
  {
   "cell_type": "code",
   "execution_count": 19,
   "metadata": {},
   "outputs": [],
   "source": [
    "imgname = mypaths.plotdir / f\"{NS_OUTPUT_NAME_PREFIX}__toa_olr_hist.png\""
   ]
  },
  {
   "cell_type": "code",
   "execution_count": 20,
   "metadata": {},
   "outputs": [
    {
     "name": "stdout",
     "output_type": "stream",
     "text": [
      "Saved to ../plots/trap1e_proxb__grcs__toa_olr_hist.png\n"
     ]
    }
   ],
   "source": [
    "fig.savefig(imgname, dpi=200)\n",
    "print(f\"Saved to ../{imgname.relative_to(mypaths.topdir)}\")"
   ]
  }
 ],
 "metadata": {
  "kernelspec": {
   "display_name": "Python [conda env:exo]",
   "language": "python",
   "name": "conda-env-exo-py"
  },
  "language_info": {
   "codemirror_mode": {
    "name": "ipython",
    "version": 3
   },
   "file_extension": ".py",
   "mimetype": "text/x-python",
   "name": "python",
   "nbconvert_exporter": "python",
   "pygments_lexer": "ipython3",
   "version": "3.7.6"
  }
 },
 "nbformat": 4,
 "nbformat_minor": 4
}
